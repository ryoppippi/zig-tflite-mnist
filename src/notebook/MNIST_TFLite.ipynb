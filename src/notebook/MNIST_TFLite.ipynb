{
  "nbformat": 4,
  "nbformat_minor": 0,
  "metadata": {
    "colab": {
      "name": "MNIST_TFLite",
      "provenance": [],
      "collapsed_sections": []
    },
    "kernelspec": {
      "name": "python3",
      "display_name": "Python 3"
    },
    "accelerator": "GPU",
    "gpuClass": "standard"
  },
  "cells": [
    {
      "cell_type": "markdown",
      "metadata": {
        "id": "Zu1j2tYxtBUY"
      },
      "source": [
        "# MNIST in TensorFlow Lite"
      ]
    },
    {
      "cell_type": "markdown",
      "metadata": {
        "id": "278DhurWtayz"
      },
      "source": [
        "# Python Modules"
      ]
    },
    {
      "cell_type": "code",
      "metadata": {
        "id": "lyqFzpj424A0"
      },
      "source": [
        "import tensorflow as tf\n",
        "from tensorflow.python.keras.models import Sequential\n",
        "from tensorflow.python.keras.layers import Dense, Flatten\n",
        "\n",
        "# modules for plotting in this notebook\n",
        "import numpy as np\n",
        "import matplotlib.pyplot as plt\n",
        "import random"
      ],
      "execution_count": 1,
      "outputs": []
    },
    {
      "cell_type": "markdown",
      "metadata": {
        "id": "wcWjqTpqsKTz"
      },
      "source": [
        "Make sure we're on the right TensorFlow version"
      ]
    },
    {
      "cell_type": "code",
      "metadata": {
        "id": "ZTOUVLCPsPNQ",
        "outputId": "23d793e8-5476-4561-ec4b-34400e61c0ed",
        "colab": {
          "base_uri": "https://localhost:8080/",
          "height": 58
        }
      },
      "source": [
        "assert tf.__version__.split(\".\")[0] == \"2\"\n",
        "tf.__version__"
      ],
      "execution_count": 2,
      "outputs": [
        {
          "output_type": "execute_result",
          "data": {
            "text/plain": [
              "'2.9.1'"
            ],
            "application/vnd.google.colaboratory.intrinsic+json": {
              "type": "string"
            }
          },
          "metadata": {},
          "execution_count": 2
        }
      ]
    },
    {
      "cell_type": "markdown",
      "metadata": {
        "id": "IFxHkm8ltvq7"
      },
      "source": [
        "# Loading MNIST Data"
      ]
    },
    {
      "cell_type": "code",
      "metadata": {
        "id": "F9sgeZzVtzzd",
        "outputId": "eb7ccc64-6692-415e-d34a-0406b8b7fb7d",
        "colab": {
          "base_uri": "https://localhost:8080/"
        }
      },
      "source": [
        "(x_train, y_train), (x_test, y_test) = tf.keras.datasets.mnist.load_data()\n",
        "\n",
        "# 60,000 training data and 10,000 test data of 28x28 pixel images\n",
        "print(\"x_train shape\", x_train.shape)\n",
        "print(\"y_train shape\", y_train.shape)\n",
        "print(\"x_test shape\", x_test.shape)\n",
        "print(\"y_test shape\", y_test.shape)"
      ],
      "execution_count": 3,
      "outputs": [
        {
          "output_type": "stream",
          "name": "stdout",
          "text": [
            "x_train shape (60000, 28, 28)\n",
            "y_train shape (60000,)\n",
            "x_test shape (10000, 28, 28)\n",
            "y_test shape (10000,)\n"
          ]
        }
      ]
    },
    {
      "cell_type": "code",
      "metadata": {
        "id": "8DFBgm8ivO0l",
        "outputId": "d97ca158-abc5-4c30-ac57-8f9d52c5358c",
        "colab": {
          "base_uri": "https://localhost:8080/",
          "height": 678
        }
      },
      "source": [
        "fig = plt.figure(figsize=(9,9))\n",
        "\n",
        "for i in range(9):\n",
        "  plt.subplot(3,3,i+1)\n",
        "  num = random.randint(0, len(x_train))\n",
        "  plt.imshow(x_train[num], cmap=\"gray\", interpolation=None)\n",
        "  plt.title(y_train[num])\n",
        "\n",
        "plt.tight_layout()"
      ],
      "execution_count": 4,
      "outputs": [
        {
          "output_type": "display_data",
          "data": {
            "text/plain": [
              "<Figure size 648x648 with 9 Axes>"
            ],
            "image/png": "[encoded data removed]"
          },
          "metadata": {
            "needs_background": "light"
          }
        }
      ]
    },
    {
      "cell_type": "markdown",
      "metadata": {
        "id": "ooBWU_GlxMj8"
      },
      "source": [
        "# Create Model"
      ]
    },
    {
      "cell_type": "code",
      "metadata": {
        "id": "jrCDutoHxPC-"
      },
      "source": [
        "# Create a model with a 28x28 pixel input vector\n",
        "#    -> 1 hidden layer of 64 nodes\n",
        "#    -> 10 categories of outputs (digits 0-9)\n",
        "def create_model():\n",
        "  model = Sequential()\n",
        "  model.add(Flatten(input_shape=(28*28,)))\n",
        "  model.add(Dense(64, activation=\"relu\"))\n",
        "  model.add(Dense(10, activation=\"softmax\"))\n",
        "  model.compile(loss=\"categorical_crossentropy\", optimizer=\"adam\", metrics=[\"accuracy\"])\n",
        "  return model"
      ],
      "execution_count": 5,
      "outputs": []
    },
    {
      "cell_type": "code",
      "metadata": {
        "id": "w7Rm-2Mbxi7Z",
        "outputId": "7a4679ca-6d26-49da-c53a-0b4d2298b4e4",
        "colab": {
          "base_uri": "https://localhost:8080/"
        }
      },
      "source": [
        "model = create_model()\n",
        "model.summary()"
      ],
      "execution_count": 6,
      "outputs": [
        {
          "output_type": "stream",
          "name": "stdout",
          "text": [
            "Model: \"sequential\"\n",
            "_________________________________________________________________\n",
            "Layer (type)                 Output Shape              Param #   \n",
            "=================================================================\n",
            "flatten (Flatten)            (None, 784)               0         \n",
            "_________________________________________________________________\n",
            "dense (Dense)                (None, 64)                50240     \n",
            "_________________________________________________________________\n",
            "dense_1 (Dense)              (None, 10)                650       \n",
            "=================================================================\n",
            "Total params: 50,890\n",
            "Trainable params: 50,890\n",
            "Non-trainable params: 0\n",
            "_________________________________________________________________\n"
          ]
        }
      ]
    },
    {
      "cell_type": "markdown",
      "metadata": {
        "id": "sV-OKA8PyNN-"
      },
      "source": [
        "# Setup Training & Test Data to Model"
      ]
    },
    {
      "cell_type": "code",
      "metadata": {
        "id": "ytOjFV0JyRKg",
        "outputId": "d06cf289-6da1-4cc1-f0e5-f6e0d7dce970",
        "colab": {
          "base_uri": "https://localhost:8080/"
        }
      },
      "source": [
        "x_train = x_train.reshape(60000, 28*28)\n",
        "x_test = x_test.reshape(10000, 28*28)\n",
        "x_train = x_train.astype(\"float32\")\n",
        "x_test = x_test.astype(\"float32\")\n",
        "x_train /= 255\n",
        "x_test /= 255\n",
        "\n",
        "y_train = tf.keras.utils.to_categorical(y_train, 10)\n",
        "y_test = tf.keras.utils.to_categorical(y_test, 10)\n",
        "\n",
        "print(\"x_train shape\", x_train.shape)\n",
        "print(\"y_train shape\", y_train.shape)"
      ],
      "execution_count": 7,
      "outputs": [
        {
          "output_type": "stream",
          "name": "stdout",
          "text": [
            "x_train shape (60000, 784)\n",
            "y_train shape (60000, 10)\n"
          ]
        }
      ]
    },
    {
      "cell_type": "markdown",
      "metadata": {
        "id": "H25BFQQ2yl8d"
      },
      "source": [
        "# Train and Save Model"
      ]
    },
    {
      "cell_type": "code",
      "metadata": {
        "id": "vnNHvNKkytp_",
        "outputId": "cb0e766c-ab70-44a7-b2eb-ec538458e458",
        "colab": {
          "base_uri": "https://localhost:8080/"
        }
      },
      "source": [
        "model.fit(x=x_train, y=y_train, batch_size=128, epochs=5, verbose=1)\n",
        "\n",
        "scores = model.evaluate(x_test, y_test, verbose=2)\n",
        "print(\"Test Loss:\", scores[0])\n",
        "print(\"Test Accuracy:\", scores[1])\n",
        "\n",
        "model.save(\"mnist.h5\")"
      ],
      "execution_count": 8,
      "outputs": [
        {
          "output_type": "stream",
          "name": "stdout",
          "text": [
            "Epoch 1/5\n",
            "469/469 [==============================] - 3s 4ms/step - loss: 0.4250 - accuracy: 0.8830\n",
            "Epoch 2/5\n",
            "469/469 [==============================] - 2s 4ms/step - loss: 0.2092 - accuracy: 0.9403\n",
            "Epoch 3/5\n",
            "469/469 [==============================] - 2s 4ms/step - loss: 0.1629 - accuracy: 0.9532\n",
            "Epoch 4/5\n",
            "469/469 [==============================] - 2s 4ms/step - loss: 0.1334 - accuracy: 0.9626\n",
            "Epoch 5/5\n",
            "469/469 [==============================] - 2s 4ms/step - loss: 0.1139 - accuracy: 0.9671\n",
            "313/313 - 1s - loss: 0.1167 - accuracy: 0.9669\n",
            "Test Loss: 0.11667181551456451\n",
            "Test Accuracy: 0.9668999910354614\n"
          ]
        }
      ]
    },
    {
      "cell_type": "markdown",
      "metadata": {
        "id": "6YAosrZp3RfD"
      },
      "source": [
        "# Convert Model to .TFLite"
      ]
    },
    {
      "cell_type": "code",
      "metadata": {
        "id": "C6Ozqwb13Wpi",
        "outputId": "6bcbf0c5-ced0-454f-cc01-420c5672ccf2",
        "colab": {
          "base_uri": "https://localhost:8080/"
        }
      },
      "source": [
        "mnist_sampleset = tf.data.Dataset.from_tensor_slices((x_test)).batch(1)\n",
        "def representative_dataset_gen():\n",
        "    for input_value in mnist_sampleset.take(100):\n",
        "        yield [input_value]\n",
        "\n",
        "converter = tf.lite.TFLiteConverter.from_keras_model(model)\n",
        "# NOTE: The current version of TensorFlow appears to break the model when using optimizations\n",
        "#    You can try uncommenting the following if you would like to generate a smaller size .tflite model\n",
        "# converter.optimizations = [tf.lite.Optimize.OPTIMIZE_FOR_SIZE]\n",
        "# converter.representative_dataset = representative_dataset_gen\n",
        "tflite_model = converter.convert()\n",
        "open(\"model.tflite\", \"wb\").write(tflite_model)"
      ],
      "execution_count": 9,
      "outputs": [
        {
          "output_type": "execute_result",
          "data": {
            "text/plain": [
              "205472"
            ]
          },
          "metadata": {},
          "execution_count": 9
        }
      ]
    },
    {
      "cell_type": "markdown",
      "metadata": {
        "id": "a-V7Af3x3rv1"
      },
      "source": [
        "# Test TFLite Model"
      ]
    },
    {
      "cell_type": "code",
      "metadata": {
        "id": "UYLaqDFA3vpt",
        "outputId": "31cb446b-2d1c-4c3c-91d1-4efe30776176",
        "colab": {
          "base_uri": "https://localhost:8080/"
        }
      },
      "source": [
        "interpreter = tf.lite.Interpreter(model_path=\"model.tflite\")\n",
        "\n",
        "input_details = interpreter.get_input_details()\n",
        "output_details = interpreter.get_output_details()\n",
        "\n",
        "# Adjust the model interpreter to take 10,000 inputs at once instead of just 1\n",
        "interpreter.resize_tensor_input(input_details[0][\"index\"], (10000, 28*28))\n",
        "interpreter.resize_tensor_input(output_details[0][\"index\"], (10000, 10))\n",
        "interpreter.allocate_tensors()\n",
        "\n",
        "input_details = interpreter.get_input_details()\n",
        "output_details = interpreter.get_output_details()\n",
        "\n",
        "# Set the test input and run\n",
        "interpreter.set_tensor(input_details[0][\"index\"], x_test)\n",
        "interpreter.invoke()\n",
        "\n",
        "# Get the result and check its accuracy\n",
        "output_data = interpreter.get_tensor(output_details[0][\"index\"])\n",
        "\n",
        "a = [np.argmax(y, axis=None, out=None) for y in output_data]\n",
        "b = [np.argmax(y, axis=None, out=None) for y in y_test]\n",
        "\n",
        "accuracy = (np.array(a) == np.array(b)).mean()\n",
        "print(\"TFLite Accuracy:\", accuracy)"
      ],
      "execution_count": 10,
      "outputs": [
        {
          "output_type": "stream",
          "name": "stdout",
          "text": [
            "TFLite Accuracy: 0.9669\n"
          ]
        }
      ]
    }
  ]
}